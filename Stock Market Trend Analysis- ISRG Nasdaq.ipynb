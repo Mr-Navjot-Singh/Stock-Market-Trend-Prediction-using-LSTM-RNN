{
 "cells": [
  {
   "cell_type": "markdown",
   "id": "8c3bb312",
   "metadata": {},
   "source": [
    "## Stock Market Trend Analysis for Nasadaq: ISRG\n",
    "### In this notebook I have made LSTM- RNN based model to observe the trend in the stock price value of ISRG."
   ]
  },
  {
   "cell_type": "code",
   "execution_count": 23,
   "id": "625b4b0b",
   "metadata": {},
   "outputs": [],
   "source": [
    "import pandas as pd\n",
    "import numpy as np\n",
    "import matplotlib.pyplot as plt"
   ]
  },
  {
   "cell_type": "markdown",
   "id": "90da3104",
   "metadata": {},
   "source": [
    "## Uploading Data"
   ]
  },
  {
   "cell_type": "code",
   "execution_count": 24,
   "id": "ae7a9d1d",
   "metadata": {},
   "outputs": [
    {
     "data": {
      "text/html": [
       "<div>\n",
       "<style scoped>\n",
       "    .dataframe tbody tr th:only-of-type {\n",
       "        vertical-align: middle;\n",
       "    }\n",
       "\n",
       "    .dataframe tbody tr th {\n",
       "        vertical-align: top;\n",
       "    }\n",
       "\n",
       "    .dataframe thead th {\n",
       "        text-align: right;\n",
       "    }\n",
       "</style>\n",
       "<table border=\"1\" class=\"dataframe\">\n",
       "  <thead>\n",
       "    <tr style=\"text-align: right;\">\n",
       "      <th></th>\n",
       "      <th>date</th>\n",
       "      <th>open</th>\n",
       "      <th>high</th>\n",
       "      <th>low</th>\n",
       "      <th>close</th>\n",
       "      <th>volume</th>\n",
       "      <th>Name</th>\n",
       "    </tr>\n",
       "  </thead>\n",
       "  <tbody>\n",
       "    <tr>\n",
       "      <th>0</th>\n",
       "      <td>2013-02-08</td>\n",
       "      <td>190.6731</td>\n",
       "      <td>193.2165</td>\n",
       "      <td>190.1831</td>\n",
       "      <td>192.9165</td>\n",
       "      <td>509604</td>\n",
       "      <td>ISRG</td>\n",
       "    </tr>\n",
       "    <tr>\n",
       "      <th>1</th>\n",
       "      <td>2013-02-11</td>\n",
       "      <td>191.9256</td>\n",
       "      <td>192.6465</td>\n",
       "      <td>189.4665</td>\n",
       "      <td>190.5065</td>\n",
       "      <td>770940</td>\n",
       "      <td>ISRG</td>\n",
       "    </tr>\n",
       "    <tr>\n",
       "      <th>2</th>\n",
       "      <td>2013-02-12</td>\n",
       "      <td>190.8815</td>\n",
       "      <td>191.2378</td>\n",
       "      <td>189.5098</td>\n",
       "      <td>190.4618</td>\n",
       "      <td>423156</td>\n",
       "      <td>ISRG</td>\n",
       "    </tr>\n",
       "    <tr>\n",
       "      <th>3</th>\n",
       "      <td>2013-02-13</td>\n",
       "      <td>190.2165</td>\n",
       "      <td>192.4165</td>\n",
       "      <td>190.1231</td>\n",
       "      <td>191.2331</td>\n",
       "      <td>337554</td>\n",
       "      <td>ISRG</td>\n",
       "    </tr>\n",
       "    <tr>\n",
       "      <th>4</th>\n",
       "      <td>2013-02-14</td>\n",
       "      <td>189.7398</td>\n",
       "      <td>191.1965</td>\n",
       "      <td>189.0231</td>\n",
       "      <td>190.4198</td>\n",
       "      <td>582456</td>\n",
       "      <td>ISRG</td>\n",
       "    </tr>\n",
       "  </tbody>\n",
       "</table>\n",
       "</div>"
      ],
      "text/plain": [
       "         date      open      high       low     close  volume  Name\n",
       "0  2013-02-08  190.6731  193.2165  190.1831  192.9165  509604  ISRG\n",
       "1  2013-02-11  191.9256  192.6465  189.4665  190.5065  770940  ISRG\n",
       "2  2013-02-12  190.8815  191.2378  189.5098  190.4618  423156  ISRG\n",
       "3  2013-02-13  190.2165  192.4165  190.1231  191.2331  337554  ISRG\n",
       "4  2013-02-14  189.7398  191.1965  189.0231  190.4198  582456  ISRG"
      ]
     },
     "execution_count": 24,
     "metadata": {},
     "output_type": "execute_result"
    }
   ],
   "source": [
    "data = pd.read_csv('ISRG_data.csv')\n",
    "data.head(5)"
   ]
  },
  {
   "cell_type": "code",
   "execution_count": 25,
   "id": "924a04d6",
   "metadata": {},
   "outputs": [
    {
     "data": {
      "text/html": [
       "<div>\n",
       "<style scoped>\n",
       "    .dataframe tbody tr th:only-of-type {\n",
       "        vertical-align: middle;\n",
       "    }\n",
       "\n",
       "    .dataframe tbody tr th {\n",
       "        vertical-align: top;\n",
       "    }\n",
       "\n",
       "    .dataframe thead th {\n",
       "        text-align: right;\n",
       "    }\n",
       "</style>\n",
       "<table border=\"1\" class=\"dataframe\">\n",
       "  <thead>\n",
       "    <tr style=\"text-align: right;\">\n",
       "      <th></th>\n",
       "      <th>date</th>\n",
       "      <th>open</th>\n",
       "      <th>high</th>\n",
       "      <th>low</th>\n",
       "      <th>close</th>\n",
       "      <th>volume</th>\n",
       "      <th>Name</th>\n",
       "    </tr>\n",
       "  </thead>\n",
       "  <tbody>\n",
       "    <tr>\n",
       "      <th>1254</th>\n",
       "      <td>2018-02-01</td>\n",
       "      <td>432.61</td>\n",
       "      <td>433.13</td>\n",
       "      <td>423.3600</td>\n",
       "      <td>425.92</td>\n",
       "      <td>706539</td>\n",
       "      <td>ISRG</td>\n",
       "    </tr>\n",
       "    <tr>\n",
       "      <th>1255</th>\n",
       "      <td>2018-02-02</td>\n",
       "      <td>423.01</td>\n",
       "      <td>426.20</td>\n",
       "      <td>416.2701</td>\n",
       "      <td>416.96</td>\n",
       "      <td>939639</td>\n",
       "      <td>ISRG</td>\n",
       "    </tr>\n",
       "    <tr>\n",
       "      <th>1256</th>\n",
       "      <td>2018-02-05</td>\n",
       "      <td>415.67</td>\n",
       "      <td>417.00</td>\n",
       "      <td>399.0100</td>\n",
       "      <td>399.01</td>\n",
       "      <td>1255266</td>\n",
       "      <td>ISRG</td>\n",
       "    </tr>\n",
       "    <tr>\n",
       "      <th>1257</th>\n",
       "      <td>2018-02-06</td>\n",
       "      <td>390.68</td>\n",
       "      <td>412.57</td>\n",
       "      <td>385.5110</td>\n",
       "      <td>408.33</td>\n",
       "      <td>1571945</td>\n",
       "      <td>ISRG</td>\n",
       "    </tr>\n",
       "    <tr>\n",
       "      <th>1258</th>\n",
       "      <td>2018-02-07</td>\n",
       "      <td>407.12</td>\n",
       "      <td>410.88</td>\n",
       "      <td>396.3400</td>\n",
       "      <td>399.53</td>\n",
       "      <td>770645</td>\n",
       "      <td>ISRG</td>\n",
       "    </tr>\n",
       "  </tbody>\n",
       "</table>\n",
       "</div>"
      ],
      "text/plain": [
       "            date    open    high       low   close   volume  Name\n",
       "1254  2018-02-01  432.61  433.13  423.3600  425.92   706539  ISRG\n",
       "1255  2018-02-02  423.01  426.20  416.2701  416.96   939639  ISRG\n",
       "1256  2018-02-05  415.67  417.00  399.0100  399.01  1255266  ISRG\n",
       "1257  2018-02-06  390.68  412.57  385.5110  408.33  1571945  ISRG\n",
       "1258  2018-02-07  407.12  410.88  396.3400  399.53   770645  ISRG"
      ]
     },
     "execution_count": 25,
     "metadata": {},
     "output_type": "execute_result"
    }
   ],
   "source": [
    "data.tail(5)"
   ]
  },
  {
   "cell_type": "code",
   "execution_count": 26,
   "id": "1053e4a6",
   "metadata": {},
   "outputs": [
    {
     "data": {
      "text/plain": [
       "(1259, 7)"
      ]
     },
     "execution_count": 26,
     "metadata": {},
     "output_type": "execute_result"
    }
   ],
   "source": [
    "data.shape"
   ]
  },
  {
   "cell_type": "code",
   "execution_count": 51,
   "id": "6875d3b3",
   "metadata": {},
   "outputs": [
    {
     "data": {
      "image/png": "[encoded data removed]",
      "text/plain": [
       "<Figure size 1080x432 with 1 Axes>"
      ]
     },
     "metadata": {
      "needs_background": "light"
     },
     "output_type": "display_data"
    }
   ],
   "source": [
    "plt.figure(figsize=(15,6))\n",
    "plt.plot(data.open)\n",
    "plt.title('ISRG Stock Price Overall Trend')\n",
    "plt.xlabel('Time')\n",
    "plt.ylabel('ISRG Stock Price')\n",
    "plt.grid()\n",
    "plt.show()"
   ]
  },
  {
   "cell_type": "markdown",
   "id": "1f4e0b0e",
   "metadata": {},
   "source": [
    "## Splitting Data \n",
    "### Here I have splitted same csv file for training and testing purposes. 1100 rows are taken for training and 159 rows for testing which is equivalent of 92% of data to training and 8% to testing. This can be splitted based on the requirement for example if the last month's chart is to be predicted we can split from that point."
   ]
  },
  {
   "cell_type": "code",
   "execution_count": 28,
   "id": "41efe0a5",
   "metadata": {},
   "outputs": [],
   "source": [
    "train = data.iloc[:1100, 1:2] \n",
    "test = data.iloc[1100:, 1:2]"
   ]
  },
  {
   "cell_type": "code",
   "execution_count": 29,
   "id": "a1904681",
   "metadata": {},
   "outputs": [
    {
     "data": {
      "text/html": [
       "<div>\n",
       "<style scoped>\n",
       "    .dataframe tbody tr th:only-of-type {\n",
       "        vertical-align: middle;\n",
       "    }\n",
       "\n",
       "    .dataframe tbody tr th {\n",
       "        vertical-align: top;\n",
       "    }\n",
       "\n",
       "    .dataframe thead th {\n",
       "        text-align: right;\n",
       "    }\n",
       "</style>\n",
       "<table border=\"1\" class=\"dataframe\">\n",
       "  <thead>\n",
       "    <tr style=\"text-align: right;\">\n",
       "      <th></th>\n",
       "      <th>open</th>\n",
       "    </tr>\n",
       "  </thead>\n",
       "  <tbody>\n",
       "    <tr>\n",
       "      <th>0</th>\n",
       "      <td>190.6731</td>\n",
       "    </tr>\n",
       "    <tr>\n",
       "      <th>1</th>\n",
       "      <td>191.9256</td>\n",
       "    </tr>\n",
       "    <tr>\n",
       "      <th>2</th>\n",
       "      <td>190.8815</td>\n",
       "    </tr>\n",
       "    <tr>\n",
       "      <th>3</th>\n",
       "      <td>190.2165</td>\n",
       "    </tr>\n",
       "    <tr>\n",
       "      <th>4</th>\n",
       "      <td>189.7398</td>\n",
       "    </tr>\n",
       "    <tr>\n",
       "      <th>...</th>\n",
       "      <td>...</td>\n",
       "    </tr>\n",
       "    <tr>\n",
       "      <th>1095</th>\n",
       "      <td>300.2464</td>\n",
       "    </tr>\n",
       "    <tr>\n",
       "      <th>1096</th>\n",
       "      <td>300.3197</td>\n",
       "    </tr>\n",
       "    <tr>\n",
       "      <th>1097</th>\n",
       "      <td>306.3030</td>\n",
       "    </tr>\n",
       "    <tr>\n",
       "      <th>1098</th>\n",
       "      <td>312.8997</td>\n",
       "    </tr>\n",
       "    <tr>\n",
       "      <th>1099</th>\n",
       "      <td>314.0897</td>\n",
       "    </tr>\n",
       "  </tbody>\n",
       "</table>\n",
       "<p>1100 rows × 1 columns</p>\n",
       "</div>"
      ],
      "text/plain": [
       "          open\n",
       "0     190.6731\n",
       "1     191.9256\n",
       "2     190.8815\n",
       "3     190.2165\n",
       "4     189.7398\n",
       "...        ...\n",
       "1095  300.2464\n",
       "1096  300.3197\n",
       "1097  306.3030\n",
       "1098  312.8997\n",
       "1099  314.0897\n",
       "\n",
       "[1100 rows x 1 columns]"
      ]
     },
     "execution_count": 29,
     "metadata": {},
     "output_type": "execute_result"
    }
   ],
   "source": [
    "train"
   ]
  },
  {
   "cell_type": "code",
   "execution_count": 30,
   "id": "74bda563",
   "metadata": {},
   "outputs": [
    {
     "data": {
      "text/html": [
       "<div>\n",
       "<style scoped>\n",
       "    .dataframe tbody tr th:only-of-type {\n",
       "        vertical-align: middle;\n",
       "    }\n",
       "\n",
       "    .dataframe tbody tr th {\n",
       "        vertical-align: top;\n",
       "    }\n",
       "\n",
       "    .dataframe thead th {\n",
       "        text-align: right;\n",
       "    }\n",
       "</style>\n",
       "<table border=\"1\" class=\"dataframe\">\n",
       "  <thead>\n",
       "    <tr style=\"text-align: right;\">\n",
       "      <th></th>\n",
       "      <th>open</th>\n",
       "    </tr>\n",
       "  </thead>\n",
       "  <tbody>\n",
       "    <tr>\n",
       "      <th>1100</th>\n",
       "      <td>318.2663</td>\n",
       "    </tr>\n",
       "    <tr>\n",
       "      <th>1101</th>\n",
       "      <td>316.9630</td>\n",
       "    </tr>\n",
       "    <tr>\n",
       "      <th>1102</th>\n",
       "      <td>317.4530</td>\n",
       "    </tr>\n",
       "    <tr>\n",
       "      <th>1103</th>\n",
       "      <td>313.7564</td>\n",
       "    </tr>\n",
       "    <tr>\n",
       "      <th>1104</th>\n",
       "      <td>312.9230</td>\n",
       "    </tr>\n",
       "    <tr>\n",
       "      <th>...</th>\n",
       "      <td>...</td>\n",
       "    </tr>\n",
       "    <tr>\n",
       "      <th>1254</th>\n",
       "      <td>432.6100</td>\n",
       "    </tr>\n",
       "    <tr>\n",
       "      <th>1255</th>\n",
       "      <td>423.0100</td>\n",
       "    </tr>\n",
       "    <tr>\n",
       "      <th>1256</th>\n",
       "      <td>415.6700</td>\n",
       "    </tr>\n",
       "    <tr>\n",
       "      <th>1257</th>\n",
       "      <td>390.6800</td>\n",
       "    </tr>\n",
       "    <tr>\n",
       "      <th>1258</th>\n",
       "      <td>407.1200</td>\n",
       "    </tr>\n",
       "  </tbody>\n",
       "</table>\n",
       "<p>159 rows × 1 columns</p>\n",
       "</div>"
      ],
      "text/plain": [
       "          open\n",
       "1100  318.2663\n",
       "1101  316.9630\n",
       "1102  317.4530\n",
       "1103  313.7564\n",
       "1104  312.9230\n",
       "...        ...\n",
       "1254  432.6100\n",
       "1255  423.0100\n",
       "1256  415.6700\n",
       "1257  390.6800\n",
       "1258  407.1200\n",
       "\n",
       "[159 rows x 1 columns]"
      ]
     },
     "execution_count": 30,
     "metadata": {},
     "output_type": "execute_result"
    }
   ],
   "source": [
    "test"
   ]
  },
  {
   "cell_type": "markdown",
   "id": "f5d687aa",
   "metadata": {},
   "source": [
    "## Feature Scaling"
   ]
  },
  {
   "cell_type": "code",
   "execution_count": 31,
   "id": "54690336",
   "metadata": {},
   "outputs": [],
   "source": [
    "from sklearn.preprocessing import MinMaxScaler\n",
    "sc = MinMaxScaler(feature_range = (0, 1))\n",
    "training_set_scaled = sc.fit_transform(train)"
   ]
  },
  {
   "cell_type": "code",
   "execution_count": 32,
   "id": "bdd70e17",
   "metadata": {},
   "outputs": [],
   "source": [
    "X_train = []\n",
    "y_train = [] \n",
    "for i in range(60, 1100): \n",
    "    X_train.append(training_set_scaled[i-60:i, 0])\n",
    "    y_train.append(training_set_scaled[i, 0])\n",
    "X_train, y_train = np.array(X_train), np.array(y_train)"
   ]
  },
  {
   "cell_type": "code",
   "execution_count": 33,
   "id": "e7222932",
   "metadata": {},
   "outputs": [],
   "source": [
    "X_train = np.reshape(X_train, (X_train.shape[0], X_train.shape[1], 1))"
   ]
  },
  {
   "cell_type": "markdown",
   "id": "f68f34a3",
   "metadata": {},
   "source": [
    "## Algorithm"
   ]
  },
  {
   "cell_type": "code",
   "execution_count": 34,
   "id": "92081ab4",
   "metadata": {},
   "outputs": [],
   "source": [
    "from keras.models import Sequential\n",
    "from keras.layers import Dense\n",
    "from keras.layers import LSTM\n",
    "from keras.layers import Dropout"
   ]
  },
  {
   "cell_type": "code",
   "execution_count": 35,
   "id": "c899150b",
   "metadata": {},
   "outputs": [],
   "source": [
    "regressor = Sequential()\n",
    "regressor.add(LSTM(units = 50, return_sequences = True, input_shape = (X_train.shape[1], 1)))\n",
    "regressor.add(Dropout(0.2))\n",
    "regressor.add(LSTM(units = 50, return_sequences = True))\n",
    "regressor.add(Dropout(0.2))\n",
    "regressor.add(LSTM(units = 50, return_sequences = True))\n",
    "regressor.add(Dropout(0.2))\n",
    "regressor.add(LSTM(units = 50))\n",
    "regressor.add(Dropout(0.2))\n",
    "regressor.add(Dense(units = 1))"
   ]
  },
  {
   "cell_type": "code",
   "execution_count": 36,
   "id": "094504af",
   "metadata": {},
   "outputs": [],
   "source": [
    "regressor.compile(optimizer = 'adam', loss = 'mean_squared_error')"
   ]
  },
  {
   "cell_type": "code",
   "execution_count": 37,
   "id": "af5d7655",
   "metadata": {
    "scrolled": true
   },
   "outputs": [
    {
     "name": "stdout",
     "output_type": "stream",
     "text": [
      "Epoch 1/100\n",
      "33/33 [==============================] - 9s 75ms/step - loss: 0.0288\n",
      "Epoch 2/100\n",
      "33/33 [==============================] - 2s 75ms/step - loss: 0.0049\n",
      "Epoch 3/100\n",
      "33/33 [==============================] - 3s 76ms/step - loss: 0.0041\n",
      "Epoch 4/100\n",
      "33/33 [==============================] - 3s 82ms/step - loss: 0.0034\n",
      "Epoch 5/100\n",
      "33/33 [==============================] - 2s 72ms/step - loss: 0.0030\n",
      "Epoch 6/100\n",
      "33/33 [==============================] - 2s 71ms/step - loss: 0.0032\n",
      "Epoch 7/100\n",
      "33/33 [==============================] - 2s 75ms/step - loss: 0.0033\n",
      "Epoch 8/100\n",
      "33/33 [==============================] - 3s 76ms/step - loss: 0.0038\n",
      "Epoch 9/100\n",
      "33/33 [==============================] - 2s 71ms/step - loss: 0.0027\n",
      "Epoch 10/100\n",
      "33/33 [==============================] - 2s 71ms/step - loss: 0.0027\n",
      "Epoch 11/100\n",
      "33/33 [==============================] - 3s 77ms/step - loss: 0.0027\n",
      "Epoch 12/100\n",
      "33/33 [==============================] - 2s 75ms/step - loss: 0.0028\n",
      "Epoch 13/100\n",
      "33/33 [==============================] - 2s 74ms/step - loss: 0.0028\n",
      "Epoch 14/100\n",
      "33/33 [==============================] - 2s 75ms/step - loss: 0.0032\n",
      "Epoch 15/100\n",
      "33/33 [==============================] - 3s 78ms/step - loss: 0.0025\n",
      "Epoch 16/100\n",
      "33/33 [==============================] - 3s 76ms/step - loss: 0.0023\n",
      "Epoch 17/100\n",
      "33/33 [==============================] - 2s 72ms/step - loss: 0.0024\n",
      "Epoch 18/100\n",
      "33/33 [==============================] - 2s 71ms/step - loss: 0.0021\n",
      "Epoch 19/100\n",
      "33/33 [==============================] - 2s 71ms/step - loss: 0.0025\n",
      "Epoch 20/100\n",
      "33/33 [==============================] - 2s 72ms/step - loss: 0.0023\n",
      "Epoch 21/100\n",
      "33/33 [==============================] - 2s 76ms/step - loss: 0.0022\n",
      "Epoch 22/100\n",
      "33/33 [==============================] - 3s 81ms/step - loss: 0.0021\n",
      "Epoch 23/100\n",
      "33/33 [==============================] - 2s 73ms/step - loss: 0.0020\n",
      "Epoch 24/100\n",
      "33/33 [==============================] - 2s 73ms/step - loss: 0.0021\n",
      "Epoch 25/100\n",
      "33/33 [==============================] - 2s 74ms/step - loss: 0.0020\n",
      "Epoch 26/100\n",
      "33/33 [==============================] - 2s 74ms/step - loss: 0.0022\n",
      "Epoch 27/100\n",
      "33/33 [==============================] - 2s 71ms/step - loss: 0.0020\n",
      "Epoch 28/100\n",
      "33/33 [==============================] - 2s 71ms/step - loss: 0.0021\n",
      "Epoch 29/100\n",
      "33/33 [==============================] - 2s 72ms/step - loss: 0.0019\n",
      "Epoch 30/100\n",
      "33/33 [==============================] - 2s 72ms/step - loss: 0.0020\n",
      "Epoch 31/100\n",
      "33/33 [==============================] - 2s 72ms/step - loss: 0.0020\n",
      "Epoch 32/100\n",
      "33/33 [==============================] - 2s 71ms/step - loss: 0.0018\n",
      "Epoch 33/100\n",
      "33/33 [==============================] - 2s 72ms/step - loss: 0.0017\n",
      "Epoch 34/100\n",
      "33/33 [==============================] - 2s 71ms/step - loss: 0.0018\n",
      "Epoch 35/100\n",
      "33/33 [==============================] - 2s 71ms/step - loss: 0.0017\n",
      "Epoch 36/100\n",
      "33/33 [==============================] - 2s 71ms/step - loss: 0.0016\n",
      "Epoch 37/100\n",
      "33/33 [==============================] - 2s 71ms/step - loss: 0.0015\n",
      "Epoch 38/100\n",
      "33/33 [==============================] - 2s 71ms/step - loss: 0.0018\n",
      "Epoch 39/100\n",
      "33/33 [==============================] - 2s 71ms/step - loss: 0.0017\n",
      "Epoch 40/100\n",
      "33/33 [==============================] - 2s 71ms/step - loss: 0.0017\n",
      "Epoch 41/100\n",
      "33/33 [==============================] - 2s 71ms/step - loss: 0.0015\n",
      "Epoch 42/100\n",
      "33/33 [==============================] - 2s 70ms/step - loss: 0.0015\n",
      "Epoch 43/100\n",
      "33/33 [==============================] - 2s 72ms/step - loss: 0.0019\n",
      "Epoch 44/100\n",
      "33/33 [==============================] - 2s 71ms/step - loss: 0.0016\n",
      "Epoch 45/100\n",
      "33/33 [==============================] - 2s 71ms/step - loss: 0.0016\n",
      "Epoch 46/100\n",
      "33/33 [==============================] - 2s 71ms/step - loss: 0.0017\n",
      "Epoch 47/100\n",
      "33/33 [==============================] - 2s 71ms/step - loss: 0.0015\n",
      "Epoch 48/100\n",
      "33/33 [==============================] - 2s 72ms/step - loss: 0.0015\n",
      "Epoch 49/100\n",
      "33/33 [==============================] - 2s 73ms/step - loss: 0.0017\n",
      "Epoch 50/100\n",
      "33/33 [==============================] - 2s 71ms/step - loss: 0.0015\n",
      "Epoch 51/100\n",
      "33/33 [==============================] - 2s 71ms/step - loss: 0.0014\n",
      "Epoch 52/100\n",
      "33/33 [==============================] - 2s 70ms/step - loss: 0.0015\n",
      "Epoch 53/100\n",
      "33/33 [==============================] - 2s 71ms/step - loss: 0.0013\n",
      "Epoch 54/100\n",
      "33/33 [==============================] - 2s 71ms/step - loss: 0.0013\n",
      "Epoch 55/100\n",
      "33/33 [==============================] - 3s 80ms/step - loss: 0.0015\n",
      "Epoch 56/100\n",
      "33/33 [==============================] - 2s 71ms/step - loss: 0.0014\n",
      "Epoch 57/100\n",
      "33/33 [==============================] - 2s 71ms/step - loss: 0.0013\n",
      "Epoch 58/100\n",
      "33/33 [==============================] - 2s 71ms/step - loss: 0.0013\n",
      "Epoch 59/100\n",
      "33/33 [==============================] - 2s 71ms/step - loss: 0.0012\n",
      "Epoch 60/100\n",
      "33/33 [==============================] - 2s 71ms/step - loss: 0.0014\n",
      "Epoch 61/100\n",
      "33/33 [==============================] - 2s 71ms/step - loss: 0.0014\n",
      "Epoch 62/100\n",
      "33/33 [==============================] - 2s 71ms/step - loss: 0.0013\n",
      "Epoch 63/100\n",
      "33/33 [==============================] - 2s 71ms/step - loss: 0.0012\n",
      "Epoch 64/100\n",
      "33/33 [==============================] - 3s 78ms/step - loss: 0.0011\n",
      "Epoch 65/100\n",
      "33/33 [==============================] - 2s 73ms/step - loss: 0.0012\n",
      "Epoch 66/100\n",
      "33/33 [==============================] - 2s 71ms/step - loss: 0.0012\n",
      "Epoch 67/100\n",
      "33/33 [==============================] - 3s 76ms/step - loss: 0.0012\n",
      "Epoch 68/100\n",
      "33/33 [==============================] - 2s 72ms/step - loss: 0.0012\n",
      "Epoch 69/100\n",
      "33/33 [==============================] - 2s 71ms/step - loss: 0.0012\n",
      "Epoch 70/100\n",
      "33/33 [==============================] - 2s 72ms/step - loss: 0.0013\n",
      "Epoch 71/100\n",
      "33/33 [==============================] - 2s 71ms/step - loss: 0.0013\n",
      "Epoch 72/100\n",
      "33/33 [==============================] - 2s 72ms/step - loss: 0.0012\n",
      "Epoch 73/100\n",
      "33/33 [==============================] - 2s 71ms/step - loss: 0.0011\n",
      "Epoch 74/100\n",
      "33/33 [==============================] - 2s 71ms/step - loss: 0.0011\n",
      "Epoch 75/100\n",
      "33/33 [==============================] - 2s 71ms/step - loss: 0.0012\n",
      "Epoch 76/100\n",
      "33/33 [==============================] - 2s 71ms/step - loss: 0.0011\n",
      "Epoch 77/100\n",
      "33/33 [==============================] - 2s 71ms/step - loss: 0.0010\n",
      "Epoch 78/100\n",
      "33/33 [==============================] - 2s 71ms/step - loss: 0.0010\n",
      "Epoch 79/100\n",
      "33/33 [==============================] - 2s 71ms/step - loss: 0.0013\n",
      "Epoch 80/100\n",
      "33/33 [==============================] - 2s 71ms/step - loss: 0.0011\n",
      "Epoch 81/100\n",
      "33/33 [==============================] - 3s 80ms/step - loss: 0.0011\n",
      "Epoch 82/100\n",
      "33/33 [==============================] - 3s 80ms/step - loss: 0.0011\n",
      "Epoch 83/100\n",
      "33/33 [==============================] - 3s 83ms/step - loss: 0.0012\n",
      "Epoch 84/100\n",
      "33/33 [==============================] - 3s 78ms/step - loss: 0.0012\n",
      "Epoch 85/100\n",
      "33/33 [==============================] - 2s 75ms/step - loss: 0.0011\n",
      "Epoch 86/100\n",
      "33/33 [==============================] - 2s 75ms/step - loss: 9.9889e-04\n",
      "Epoch 87/100\n",
      "33/33 [==============================] - 3s 76ms/step - loss: 0.0010\n",
      "Epoch 88/100\n",
      "33/33 [==============================] - 3s 75ms/step - loss: 0.0012\n",
      "Epoch 89/100\n",
      "33/33 [==============================] - 2s 75ms/step - loss: 9.8581e-04\n",
      "Epoch 90/100\n",
      "33/33 [==============================] - 2s 76ms/step - loss: 0.0011\n",
      "Epoch 91/100\n",
      "33/33 [==============================] - 3s 79ms/step - loss: 0.0010\n",
      "Epoch 92/100\n",
      "33/33 [==============================] - 3s 76ms/step - loss: 9.8422e-04\n",
      "Epoch 93/100\n",
      "33/33 [==============================] - 3s 77ms/step - loss: 0.0010\n",
      "Epoch 94/100\n",
      "33/33 [==============================] - 3s 76ms/step - loss: 9.9718e-04\n",
      "Epoch 95/100\n",
      "33/33 [==============================] - 2s 75ms/step - loss: 9.7978e-04\n",
      "Epoch 96/100\n",
      "33/33 [==============================] - 2s 75ms/step - loss: 0.0010\n",
      "Epoch 97/100\n",
      "33/33 [==============================] - 3s 76ms/step - loss: 8.4817e-04\n",
      "Epoch 98/100\n",
      "33/33 [==============================] - 2s 75ms/step - loss: 0.0011\n",
      "Epoch 99/100\n",
      "33/33 [==============================] - 2s 75ms/step - loss: 9.3518e-04\n",
      "Epoch 100/100\n"
     ]
    },
    {
     "name": "stdout",
     "output_type": "stream",
     "text": [
      "33/33 [==============================] - 2s 74ms/step - loss: 0.0010\n"
     ]
    },
    {
     "data": {
      "text/plain": [
       "<keras.callbacks.History at 0x15b7fd2bca0>"
      ]
     },
     "execution_count": 37,
     "metadata": {},
     "output_type": "execute_result"
    }
   ],
   "source": [
    "regressor.fit(X_train, y_train, epochs = 100, batch_size = 32)"
   ]
  },
  {
   "cell_type": "markdown",
   "id": "4d0fa621",
   "metadata": {},
   "source": [
    "## Customizing Test Data"
   ]
  },
  {
   "cell_type": "code",
   "execution_count": 38,
   "id": "23a7620b",
   "metadata": {},
   "outputs": [
    {
     "data": {
      "text/html": [
       "<div>\n",
       "<style scoped>\n",
       "    .dataframe tbody tr th:only-of-type {\n",
       "        vertical-align: middle;\n",
       "    }\n",
       "\n",
       "    .dataframe tbody tr th {\n",
       "        vertical-align: top;\n",
       "    }\n",
       "\n",
       "    .dataframe thead th {\n",
       "        text-align: right;\n",
       "    }\n",
       "</style>\n",
       "<table border=\"1\" class=\"dataframe\">\n",
       "  <thead>\n",
       "    <tr style=\"text-align: right;\">\n",
       "      <th></th>\n",
       "      <th>open</th>\n",
       "    </tr>\n",
       "  </thead>\n",
       "  <tbody>\n",
       "    <tr>\n",
       "      <th>1100</th>\n",
       "      <td>318.2663</td>\n",
       "    </tr>\n",
       "    <tr>\n",
       "      <th>1101</th>\n",
       "      <td>316.9630</td>\n",
       "    </tr>\n",
       "    <tr>\n",
       "      <th>1102</th>\n",
       "      <td>317.4530</td>\n",
       "    </tr>\n",
       "    <tr>\n",
       "      <th>1103</th>\n",
       "      <td>313.7564</td>\n",
       "    </tr>\n",
       "    <tr>\n",
       "      <th>1104</th>\n",
       "      <td>312.9230</td>\n",
       "    </tr>\n",
       "  </tbody>\n",
       "</table>\n",
       "</div>"
      ],
      "text/plain": [
       "          open\n",
       "1100  318.2663\n",
       "1101  316.9630\n",
       "1102  317.4530\n",
       "1103  313.7564\n",
       "1104  312.9230"
      ]
     },
     "execution_count": 38,
     "metadata": {},
     "output_type": "execute_result"
    }
   ],
   "source": [
    "test.head(5)"
   ]
  },
  {
   "cell_type": "code",
   "execution_count": 39,
   "id": "4d6dce85",
   "metadata": {},
   "outputs": [],
   "source": [
    "test.reset_index(inplace=True)"
   ]
  },
  {
   "cell_type": "code",
   "execution_count": 40,
   "id": "0fafeca7",
   "metadata": {},
   "outputs": [],
   "source": [
    "test.drop('index', axis=1, inplace=True)"
   ]
  },
  {
   "cell_type": "code",
   "execution_count": 41,
   "id": "14cdebfd",
   "metadata": {},
   "outputs": [
    {
     "data": {
      "text/html": [
       "<div>\n",
       "<style scoped>\n",
       "    .dataframe tbody tr th:only-of-type {\n",
       "        vertical-align: middle;\n",
       "    }\n",
       "\n",
       "    .dataframe tbody tr th {\n",
       "        vertical-align: top;\n",
       "    }\n",
       "\n",
       "    .dataframe thead th {\n",
       "        text-align: right;\n",
       "    }\n",
       "</style>\n",
       "<table border=\"1\" class=\"dataframe\">\n",
       "  <thead>\n",
       "    <tr style=\"text-align: right;\">\n",
       "      <th></th>\n",
       "      <th>open</th>\n",
       "    </tr>\n",
       "  </thead>\n",
       "  <tbody>\n",
       "    <tr>\n",
       "      <th>0</th>\n",
       "      <td>318.2663</td>\n",
       "    </tr>\n",
       "    <tr>\n",
       "      <th>1</th>\n",
       "      <td>316.9630</td>\n",
       "    </tr>\n",
       "    <tr>\n",
       "      <th>2</th>\n",
       "      <td>317.4530</td>\n",
       "    </tr>\n",
       "    <tr>\n",
       "      <th>3</th>\n",
       "      <td>313.7564</td>\n",
       "    </tr>\n",
       "    <tr>\n",
       "      <th>4</th>\n",
       "      <td>312.9230</td>\n",
       "    </tr>\n",
       "  </tbody>\n",
       "</table>\n",
       "</div>"
      ],
      "text/plain": [
       "       open\n",
       "0  318.2663\n",
       "1  316.9630\n",
       "2  317.4530\n",
       "3  313.7564\n",
       "4  312.9230"
      ]
     },
     "execution_count": 41,
     "metadata": {},
     "output_type": "execute_result"
    }
   ],
   "source": [
    "test.head()"
   ]
  },
  {
   "cell_type": "code",
   "execution_count": 42,
   "id": "02344b0a",
   "metadata": {},
   "outputs": [
    {
     "name": "stderr",
     "output_type": "stream",
     "text": [
      "C:\\Users\\HP\\AppData\\Local\\Programs\\Python\\Python310\\lib\\site-packages\\sklearn\\base.py:450: UserWarning: X does not have valid feature names, but MinMaxScaler was fitted with feature names\n",
      "  warnings.warn(\n"
     ]
    }
   ],
   "source": [
    "dataset_total = pd.concat((train['open'], test['open']), axis = 0)\n",
    "inputs = dataset_total[len(dataset_total) - len(test) - 60:].values\n",
    "inputs = inputs.reshape(-1,1)\n",
    "inputs = sc.transform(inputs)\n",
    "X_test = []\n",
    "for i in range(60, 219): \n",
    "    X_test.append(inputs[i-60:i, 0])\n",
    "X_test = np.array(X_test)\n",
    "X_test = np.reshape(X_test, (X_test.shape[0], X_test.shape[1], 1))\n",
    "predicted_stock_price = regressor.predict(X_test)\n",
    "predicted_stock_price = sc.inverse_transform(predicted_stock_price)"
   ]
  },
  {
   "cell_type": "code",
   "execution_count": 43,
   "id": "21a17804",
   "metadata": {},
   "outputs": [
    {
     "data": {
      "image/png": "[encoded data removed]",
      "text/plain": [
       "<Figure size 1080x432 with 1 Axes>"
      ]
     },
     "metadata": {
      "needs_background": "light"
     },
     "output_type": "display_data"
    }
   ],
   "source": [
    "plt.figure(figsize=(15,6))\n",
    "plt.plot(test, color = 'red', label = 'Real ISRG Stock Price')\n",
    "plt.plot(predicted_stock_price, color = 'blue', label = 'Predicted ISRG Stock Price')\n",
    "plt.title('ISRG Stock Price Prediction')\n",
    "plt.xlabel('Time')\n",
    "plt.ylabel('ISRG Stock Price')\n",
    "plt.legend()\n",
    "plt.show()"
   ]
  },
  {
   "cell_type": "code",
   "execution_count": null,
   "id": "10a10cc2",
   "metadata": {},
   "outputs": [],
   "source": []
  }
 ],
 "metadata": {
  "kernelspec": {
   "display_name": "Python 3 (ipykernel)",
   "language": "python",
   "name": "python3"
  },
  "language_info": {
   "codemirror_mode": {
    "name": "ipython",
    "version": 3
   },
   "file_extension": ".py",
   "mimetype": "text/x-python",
   "name": "python",
   "nbconvert_exporter": "python",
   "pygments_lexer": "ipython3",
   "version": "3.10.2"
  }
 },
 "nbformat": 4,
 "nbformat_minor": 5
}
